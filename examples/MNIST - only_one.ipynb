{
 "cells": [
  {
   "cell_type": "code",
   "execution_count": 20,
   "metadata": {},
   "outputs": [],
   "source": [
    "import numpy as np\n",
    "import matplotlib.pyplot as plt\n",
    "%matplotlib inline\n",
    "\n",
    "from matplotlib import pyplot as plt\n",
    "from collections import defaultdict\n",
    "\n",
    "class PlotHelper():\n",
    "    def __init__(self):\n",
    "        self.reset()\n",
    "\n",
    "    def reset(self):\n",
    "        self._f = None\n",
    "        self._ax = None\n",
    "        self.kvals = defaultdict(list)\n",
    "\n",
    "    def add(self, **kval):\n",
    "        for k, v in kval.items():\n",
    "            self.kvals[k].append(v)\n",
    "\n",
    "    @property\n",
    "    def fig(self):\n",
    "        if self._f is None:\n",
    "            self.new()\n",
    "        return self._f\n",
    "\n",
    "    @property\n",
    "    def ax(self):\n",
    "        if self._ax is None:\n",
    "            self.new()\n",
    "        return self._ax\n",
    "\n",
    "    def new(self):\n",
    "        self._f, self._ax = plt.subplots(1,1)\n",
    "        plt.ion()\n",
    "        self.fig.show()\n",
    "\n",
    "    def show(self):\n",
    "        names = []\n",
    "        self.ax.clear()\n",
    "        for k, v in self.kvals.items():\n",
    "            names.append(k)\n",
    "            self.ax.plot(v)\n",
    "        self.ax.legend(names)\n",
    "        self.fig.canvas.draw()"
   ]
  },
  {
   "cell_type": "code",
   "execution_count": 21,
   "metadata": {},
   "outputs": [],
   "source": [
    "def sample_balanced_subset(dataset, n_per_class):\n",
    "    classes = dataset.targets.unique()\n",
    "    indices = [(dataset.targets == c).nonzero(as_tuple=False) [:n_per_class] for c in classes]\n",
    "    indices = torch.stack(indices).flatten()\n",
    "    return torch.utils.data.Subset(dataset, indices)"
   ]
  },
  {
   "cell_type": "code",
   "execution_count": 22,
   "metadata": {},
   "outputs": [],
   "source": [
    "import torch\n",
    "import torch.nn as nn\n",
    "import torch.nn.functional as F\n",
    "import torch.optim as optim\n",
    "from torchvision import datasets, transforms\n",
    "from torch.optim.lr_scheduler import StepLR\n",
    "\n",
    "\n",
    "class Net(nn.Module):\n",
    "    def __init__(self):\n",
    "        super(Net, self).__init__()\n",
    "        self.conv1 = nn.Conv2d(1, 32, 3, 1)\n",
    "        self.conv2 = nn.Conv2d(32, 64, 3, 1)\n",
    "        self.dropout1 = nn.Dropout2d(0.25)\n",
    "        self.dropout2 = nn.Dropout2d(0.5)\n",
    "        self.fc1 = nn.Linear(9216, 128)\n",
    "        self.fc2 = nn.Linear(128, 20)\n",
    "\n",
    "    def forward(self, x):\n",
    "        x = self.conv1(x)\n",
    "        x = F.relu(x)\n",
    "        x = self.conv2(x)\n",
    "        x = F.relu(x)\n",
    "        x = F.max_pool2d(x, 2)\n",
    "        x = self.dropout1(x)\n",
    "        x = torch.flatten(x, 1)\n",
    "        x = self.fc1(x)\n",
    "        x = F.relu(x)\n",
    "        x = self.dropout2(x)\n",
    "        x = self.fc2(x)\n",
    "        return x.reshape(10,2)\n",
    "\n",
    "\n",
    "def train(args, model, device, train_loader, optimizer, epoch, cons=None, plot_loss=None):\n",
    "    \n",
    "    model.train()\n",
    "    \n",
    "    for batch_idx, (data, target) in enumerate(train_loader):\n",
    "        \n",
    "        data, target = data.to(device), target.to(device)\n",
    "        \n",
    "        optimizer.zero_grad()\n",
    "        \n",
    "        output = model(data)\n",
    "        output = output.reshape(10,10)\n",
    "        \n",
    "        loss = F.cross_entropy(output[:1], target)\n",
    "        closs = cons(output) if cons else torch.tensor(0).to(device)\n",
    "        \n",
    "        loss += closs\n",
    "            \n",
    "        loss.backward()\n",
    "        optimizer.step()\n",
    "        \n",
    "        # Logging\n",
    "        if batch_idx % args.log_interval == 0:\n",
    "            print('Train Epoch: {} [{}/{} ({:.0f}%)]\\tLoss: {:.6f}'.format(\n",
    "                epoch, batch_idx * len(data), len(train_loader.dataset),\n",
    "                100. * batch_idx / len(train_loader), loss.item()))\n",
    "\n",
    "def test(model, device, test_loader):\n",
    "    model.eval()\n",
    "    \n",
    "    test_loss = 0\n",
    "    correct = 0\n",
    "    with torch.no_grad():\n",
    "        \n",
    "        for data, target in test_loader:\n",
    "            \n",
    "            data, target = data.to(device), target.to(device)\n",
    "            output = model(data)\n",
    "            output = output.reshape(10,10)\n",
    "            # sum up batch loss\n",
    "            test_loss += F.cross_entropy(output[:1], target, reduction='sum').item()\n",
    "            \n",
    "            # get the index of the max log-probability\n",
    "            pred = output[:1].argmax(dim=1, keepdim=True)\n",
    "            correct += pred.eq(target.view_as(pred)).sum().item()\n",
    "\n",
    "    test_loss /= len(test_loader.dataset)\n",
    "\n",
    "    \n",
    "    print('\\nTest set: Average loss: {:.4f}, Accuracy: {}/{} ({:.0f}%)\\n'.format(\n",
    "        test_loss, correct, len(test_loader.dataset),\n",
    "        100. * correct / len(test_loader.dataset)))"
   ]
  },
  {
   "cell_type": "code",
   "execution_count": 23,
   "metadata": {},
   "outputs": [],
   "source": [
    "import sys\n",
    "sys.path.append(\"..\")\n",
    "\n",
    "from pylon.constraint import constraint\n",
    "from pylon.brute_force_solver import SatisfactionBruteForceSolver\n",
    "from pylon.sampling_solver import SamplingSolver, WeightedSamplingSolver\n",
    "\n",
    "def only_one(x):\n",
    "    return x.sum(dim=-1) == 1\n",
    "\n",
    "class Args:\n",
    "    batch_size = 1\n",
    "    test_batch_size = 1000\n",
    "    epochs = 1\n",
    "    lr = 1.0\n",
    "    gamma = 0.7\n",
    "    seed = 1\n",
    "    log_interval = 10\n",
    "    use_cuda = False\n",
    "    n_per_class = 100\n",
    "    \n",
    "# Plotting\n",
    "plot_loss = PlotHelper()\n",
    "    \n",
    "args = Args()\n",
    "torch.manual_seed(args.seed)\n",
    "\n",
    "device = torch.device(\"cuda\" if args.use_cuda else \"cpu\")\n",
    "\n",
    "kwargs = {'batch_size': args.batch_size}\n",
    "if args.use_cuda:\n",
    "    kwargs.update({'num_workers': 1,\n",
    "                   'pin_memory': True,\n",
    "                   'shuffle': True},\n",
    "                 )\n",
    "\n",
    "# Prepare dataset transformations\n",
    "transform=transforms.Compose([\n",
    "    transforms.ToTensor(),\n",
    "    transforms.Normalize((0.1307,), (0.3081,))\n",
    "    ])\n",
    "\n",
    "# Load train and test splits\n",
    "train_split = datasets.MNIST('../data', train=True, download=True,\n",
    "                   transform=transform)\n",
    "test_split = datasets.MNIST('../data', train=False,\n",
    "                   transform=transform)\n",
    "\n",
    "# Sample a balanced subset of the train set\n",
    "train_split = sample_balanced_subset(train_split, args.n_per_class)\n",
    "\n",
    "# Create train, validation and test data loaders\n",
    "train_loader = torch.utils.data.DataLoader(train_split,**kwargs)\n",
    "test_loader  = torch.utils.data.DataLoader(test_split, **kwargs)\n",
    "\n",
    "# Constraint to be applied on unlabeled data\n",
    "only_one_constraint = constraint(only_one, SatisfactionBruteForceSolver())\n",
    "# only_one_constraint = constraint(only_one, WeightedSamplingSolver(num_samples=200))\n",
    "# only_one_constraint = constraint(only_one, SamplingSolver(num_samples=200))\n",
    "\n",
    "# Move model to correct device\n",
    "model = Net().to(device)\n",
    "\n",
    "# Set up optimizer\n",
    "# optimizer = optim.SGD(model.parameters(), lr=args.lr)\n",
    "optimizer = optim.Adadelta(model.parameters(), lr=args.lr)\n",
    "scheduler = StepLR(optimizer, step_size=1, gamma=args.gamma)"
   ]
  },
  {
   "cell_type": "code",
   "execution_count": 24,
   "metadata": {},
   "outputs": [],
   "source": [
    "for X, y in train_loader:\n",
    "    break"
   ]
  },
  {
   "cell_type": "code",
   "execution_count": 28,
   "metadata": {
    "scrolled": true
   },
   "outputs": [
    {
     "name": "stderr",
     "output_type": "stream",
     "text": [
      "  0%|          | 0/1 [00:00<?, ?it/s]/Users/hanliying/Documents/UCLA/Research/Neurosym_proj/pylon-master/examples/../pylon/brute_force_solver.py:49: UserWarning: To copy construct from a tensor, it is recommended to use sourceTensor.clone().detach() or sourceTensor.clone().detach().requires_grad_(True), rather than torch.tensor(sourceTensor).\n",
      "  indices = torch.stack([torch.tensor(data=self.cond(*sample), dtype=torch.bool) if kwargs == {}\n",
      "100%|██████████| 1/1 [00:00<00:00,  6.33it/s]\n",
      "/var/folders/kk/zn19ckhn56s6kwjrwp70f8kc0000gp/T/ipykernel_2625/1932012216.py:36: UserWarning: Matplotlib is currently using module://matplotlib_inline.backend_inline, which is a non-GUI backend, so cannot show the figure.\n",
      "  self.fig.show()\n"
     ]
    },
    {
     "name": "stdout",
     "output_type": "stream",
     "text": [
      "tensor([[[-1.0397, -0.6701],\n",
      "         [-0.3310,  0.0271],\n",
      "         [ 0.2637, -1.0437],\n",
      "         [ 0.5965, -1.7663],\n",
      "         [ 0.0142, -0.1075],\n",
      "         [ 0.3138,  0.4218],\n",
      "         [ 0.8880, -1.2280],\n",
      "         [ 1.1796, -0.5855],\n",
      "         [ 0.8292, -0.6835],\n",
      "         [ 0.8635,  0.1001]]], grad_fn=<UnsqueezeBackward0>)\n",
      "tensor([[[-1.0397, -0.6701],\n",
      "         [-0.3310,  0.0271],\n",
      "         [ 0.2637, -1.0437],\n",
      "         [ 0.5965, -1.7663],\n",
      "         [ 0.0142, -0.1075],\n",
      "         [ 0.3138,  0.4218],\n",
      "         [ 0.8880, -1.2280],\n",
      "         [ 1.1796, -0.5855],\n",
      "         [ 0.8292, -0.6835],\n",
      "         [ 0.8635,  0.1001]]], grad_fn=<UnsqueezeBackward0>)\n"
     ]
    },
    {
     "data": {
      "image/png": "[encoded data removed]",
      "text/plain": [
       "<Figure size 432x288 with 1 Axes>"
      ]
     },
     "metadata": {
      "needs_background": "light"
     },
     "output_type": "display_data"
    }
   ],
   "source": [
    "from tqdm import tqdm\n",
    "\n",
    "# # Plotting\n",
    "plot_loss = PlotHelper()\n",
    "#range 500\n",
    "for i in tqdm(range(1)):\n",
    "    \n",
    "    optimizer.zero_grad()\n",
    "        \n",
    "    output = model(X)\n",
    "    loss = F.cross_entropy(output[:,1].reshape(1,10), y)\n",
    "    closs = only_one_constraint(output.unsqueeze(0)) # Expects tensors of shape: batch_size x ... x num_classes\n",
    "    \n",
    "    total_loss = loss + closs\n",
    "    \n",
    "    plot_loss.add(loss=loss.data, closs=closs.data, )\n",
    "    total_loss.backward()\n",
    "    optimizer.step()\n",
    "    \n",
    "plot_loss.show()"
   ]
  },
  {
   "cell_type": "code",
   "execution_count": 26,
   "metadata": {},
   "outputs": [
    {
     "data": {
      "text/plain": [
       "tensor([1, 0, 0, 0, 0, 0, 0, 0, 0, 1])"
      ]
     },
     "execution_count": 26,
     "metadata": {},
     "output_type": "execute_result"
    }
   ],
   "source": [
    "torch.argmax(torch.softmax(model(X), dim=-1), dim=-1)"
   ]
  },
  {
   "cell_type": "code",
   "execution_count": 27,
   "metadata": {},
   "outputs": [
    {
     "data": {
      "text/plain": [
       "torch.Size([10, 2])"
      ]
     },
     "execution_count": 27,
     "metadata": {},
     "output_type": "execute_result"
    }
   ],
   "source": [
    "output.shape"
   ]
  },
  {
   "cell_type": "code",
   "execution_count": null,
   "metadata": {},
   "outputs": [],
   "source": []
  }
 ],
 "metadata": {
  "kernelspec": {
   "display_name": "Python 3 (ipykernel)",
   "language": "python",
   "name": "python3"
  },
  "language_info": {
   "codemirror_mode": {
    "name": "ipython",
    "version": 3
   },
   "file_extension": ".py",
   "mimetype": "text/x-python",
   "name": "python",
   "nbconvert_exporter": "python",
   "pygments_lexer": "ipython3",
   "version": "3.9.0"
  },
  "toc": {
   "base_numbering": 1,
   "nav_menu": {},
   "number_sections": true,
   "sideBar": true,
   "skip_h1_title": false,
   "title_cell": "Table of Contents",
   "title_sidebar": "Contents",
   "toc_cell": false,
   "toc_position": {},
   "toc_section_display": true,
   "toc_window_display": false
  },
  "vscode": {
   "interpreter": {
    "hash": "7a719078278c4492d805b55cadf911a94c7633b48007fee7a7c47218b923b9ef"
   }
  }
 },
 "nbformat": 4,
 "nbformat_minor": 4
}
